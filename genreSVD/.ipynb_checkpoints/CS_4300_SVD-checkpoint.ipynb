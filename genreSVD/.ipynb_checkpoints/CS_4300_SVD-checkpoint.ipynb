{
 "cells": [
  {
   "cell_type": "code",
   "execution_count": null,
   "metadata": {
    "id": "TEWlftUsKz4W"
   },
   "outputs": [],
   "source": [
    "import numpy as np\n",
    "from scipy.sparse.linalg import svds\n",
    "import pandas as pd\n",
    "import json\n",
    "import requests\n",
    "import matplotlib\n",
    "import numpy as np\n",
    "import matplotlib.pyplot as plt\n",
    "from sklearn.preprocessing import normalize"
   ]
  },
  {
   "cell_type": "code",
   "execution_count": null,
   "metadata": {
    "colab": {
     "base_uri": "https://localhost:8080/"
    },
    "id": "Zw1wxxqJUgY7",
    "outputId": "603cb795-1dbc-4766-fff0-906ff5f263cd"
   },
   "outputs": [
    {
     "name": "stdout",
     "output_type": "stream",
     "text": [
      "dict_keys(['_type', 'annotation_count', 'api_path', 'full_title', 'header_image_thumbnail_url', 'header_image_url', 'id', 'instrumental', 'lyrics_owner_id', 'lyrics_state', 'lyrics_updated_at', 'path', 'pyongs_count', 'song_art_image_thumbnail_url', 'song_art_image_url', 'song_art_primary_color', 'song_art_secondary_color', 'song_art_text_color', 'stats', 'title', 'title_with_featured', 'updated_by_human_at', 'url', 'primary_artist'])\n"
     ]
    }
   ],
   "source": [
    "with open(\"top_100_cities.json\") as file:\n",
    "     song_dict = json.load(file)\n",
    "\n",
    "print(song_dict['new york'][0].keys())"
   ]
  },
  {
   "cell_type": "code",
   "execution_count": null,
   "metadata": {
    "id": "NirOpctXU3i-"
   },
   "outputs": [],
   "source": [
    "# tuple list of titles and artist for each song\n",
    "song_list = []\n",
    "for key in song_dict:\n",
    "  for song in song_dict[key]:\n",
    "    song_list.append((song['title'], song['primary_artist']['name']))"
   ]
  },
  {
   "cell_type": "code",
   "execution_count": null,
   "metadata": {
    "id": "a7dbhkWFRuDR"
   },
   "outputs": [],
   "source": [
    "#get all the genres possible with music.genres.get\n",
    "authorization_code = \"c26318b7fe659daaf8b468523a4196e7\"\n",
    "response = requests.get(\"https://api.musixmatch.com/ws/1.1/music.genres.get?\"+\"apikey=\"+authorization_code)\n",
    "\n",
    "genre_list = response.json()['message']['body']['music_genre_list']\n",
    "\n",
    "genre_to_idx = {}\n",
    "idx_to_genre = {}\n",
    "\n",
    "i = 0\n",
    "for genre in genre_list:\n",
    "  genre_to_idx[genre['music_genre']['music_genre_name']] = i\n",
    "  idx_to_genre[i] = genre['music_genre']['music_genre_name']\n",
    "  i += 1"
   ]
  },
  {
   "cell_type": "code",
   "execution_count": null,
   "metadata": {
    "colab": {
     "base_uri": "https://localhost:8080/",
     "height": 443
    },
    "id": "htus6E4iLI3o",
    "outputId": "3b9d4db6-2c4f-4bb1-9b48-8efa65985cc0"
   },
   "outputs": [
    {
     "ename": "KeyboardInterrupt",
     "evalue": "ignored",
     "output_type": "error",
     "traceback": [
      "\u001b[0;31m---------------------------------------------------------------------------\u001b[0m",
      "\u001b[0;31mTypeError\u001b[0m                                 Traceback (most recent call last)",
      "\u001b[0;32m/usr/local/lib/python3.7/dist-packages/urllib3/connectionpool.py\u001b[0m in \u001b[0;36m_make_request\u001b[0;34m(self, conn, method, url, timeout, chunked, **httplib_request_kw)\u001b[0m\n\u001b[1;32m    376\u001b[0m             \u001b[0;32mtry\u001b[0m\u001b[0;34m:\u001b[0m  \u001b[0;31m# Python 2.7, use buffering of HTTP responses\u001b[0m\u001b[0;34m\u001b[0m\u001b[0;34m\u001b[0m\u001b[0m\n\u001b[0;32m--> 377\u001b[0;31m                 \u001b[0mhttplib_response\u001b[0m \u001b[0;34m=\u001b[0m \u001b[0mconn\u001b[0m\u001b[0;34m.\u001b[0m\u001b[0mgetresponse\u001b[0m\u001b[0;34m(\u001b[0m\u001b[0mbuffering\u001b[0m\u001b[0;34m=\u001b[0m\u001b[0;32mTrue\u001b[0m\u001b[0;34m)\u001b[0m\u001b[0;34m\u001b[0m\u001b[0;34m\u001b[0m\u001b[0m\n\u001b[0m\u001b[1;32m    378\u001b[0m             \u001b[0;32mexcept\u001b[0m \u001b[0mTypeError\u001b[0m\u001b[0;34m:\u001b[0m  \u001b[0;31m# Python 3\u001b[0m\u001b[0;34m\u001b[0m\u001b[0;34m\u001b[0m\u001b[0m\n",
      "\u001b[0;31mTypeError\u001b[0m: getresponse() got an unexpected keyword argument 'buffering'",
      "\nDuring handling of the above exception, another exception occurred:\n",
      "\u001b[0;31mKeyboardInterrupt\u001b[0m                         Traceback (most recent call last)",
      "\u001b[0;32m<ipython-input-98-adb92eae3a7f>\u001b[0m in \u001b[0;36m<module>\u001b[0;34m()\u001b[0m\n\u001b[1;32m      6\u001b[0m   \u001b[0mapi_song\u001b[0m \u001b[0;34m=\u001b[0m \u001b[0msong\u001b[0m\u001b[0;34m[\u001b[0m\u001b[0;36m0\u001b[0m\u001b[0;34m]\u001b[0m\u001b[0;34m.\u001b[0m\u001b[0mreplace\u001b[0m\u001b[0;34m(\u001b[0m\u001b[0;34m\" \"\u001b[0m\u001b[0;34m,\u001b[0m \u001b[0;34m\"%20\"\u001b[0m\u001b[0;34m)\u001b[0m\u001b[0;34m\u001b[0m\u001b[0;34m\u001b[0m\u001b[0m\n\u001b[1;32m      7\u001b[0m   \u001b[0mapi_artist\u001b[0m \u001b[0;34m=\u001b[0m \u001b[0msong\u001b[0m\u001b[0;34m[\u001b[0m\u001b[0;36m1\u001b[0m\u001b[0;34m]\u001b[0m\u001b[0;34m.\u001b[0m\u001b[0mreplace\u001b[0m\u001b[0;34m(\u001b[0m\u001b[0;34m\" \"\u001b[0m\u001b[0;34m,\u001b[0m \u001b[0;34m\"%20\"\u001b[0m\u001b[0;34m)\u001b[0m\u001b[0;34m\u001b[0m\u001b[0;34m\u001b[0m\u001b[0m\n\u001b[0;32m----> 8\u001b[0;31m   \u001b[0mresponse\u001b[0m \u001b[0;34m=\u001b[0m \u001b[0mrequests\u001b[0m\u001b[0;34m.\u001b[0m\u001b[0mget\u001b[0m\u001b[0;34m(\u001b[0m\u001b[0;34m\"https://api.musixmatch.com/ws/1.1/matcher.track.get?q_track=\"\u001b[0m\u001b[0;34m+\u001b[0m\u001b[0mapi_song\u001b[0m\u001b[0;34m+\u001b[0m\u001b[0;34m\"&q_artist=\"\u001b[0m\u001b[0;34m+\u001b[0m\u001b[0mapi_artist\u001b[0m\u001b[0;34m+\u001b[0m\u001b[0;34m\"&apikey=\"\u001b[0m\u001b[0;34m+\u001b[0m\u001b[0mauthorization_code\u001b[0m\u001b[0;34m)\u001b[0m\u001b[0;34m\u001b[0m\u001b[0;34m\u001b[0m\u001b[0m\n\u001b[0m\u001b[1;32m      9\u001b[0m   \u001b[0mbody\u001b[0m \u001b[0;34m=\u001b[0m \u001b[0mresponse\u001b[0m\u001b[0;34m.\u001b[0m\u001b[0mjson\u001b[0m\u001b[0;34m(\u001b[0m\u001b[0;34m)\u001b[0m\u001b[0;34m[\u001b[0m\u001b[0;34m'message'\u001b[0m\u001b[0;34m]\u001b[0m\u001b[0;34m[\u001b[0m\u001b[0;34m'body'\u001b[0m\u001b[0;34m]\u001b[0m\u001b[0;34m\u001b[0m\u001b[0;34m\u001b[0m\u001b[0m\n\u001b[1;32m     10\u001b[0m   \u001b[0;32mif\u001b[0m \u001b[0mbody\u001b[0m\u001b[0;34m:\u001b[0m\u001b[0;34m\u001b[0m\u001b[0;34m\u001b[0m\u001b[0m\n",
      "\u001b[0;32m/usr/local/lib/python3.7/dist-packages/requests/api.py\u001b[0m in \u001b[0;36mget\u001b[0;34m(url, params, **kwargs)\u001b[0m\n\u001b[1;32m     74\u001b[0m \u001b[0;34m\u001b[0m\u001b[0m\n\u001b[1;32m     75\u001b[0m     \u001b[0mkwargs\u001b[0m\u001b[0;34m.\u001b[0m\u001b[0msetdefault\u001b[0m\u001b[0;34m(\u001b[0m\u001b[0;34m'allow_redirects'\u001b[0m\u001b[0;34m,\u001b[0m \u001b[0;32mTrue\u001b[0m\u001b[0;34m)\u001b[0m\u001b[0;34m\u001b[0m\u001b[0;34m\u001b[0m\u001b[0m\n\u001b[0;32m---> 76\u001b[0;31m     \u001b[0;32mreturn\u001b[0m \u001b[0mrequest\u001b[0m\u001b[0;34m(\u001b[0m\u001b[0;34m'get'\u001b[0m\u001b[0;34m,\u001b[0m \u001b[0murl\u001b[0m\u001b[0;34m,\u001b[0m \u001b[0mparams\u001b[0m\u001b[0;34m=\u001b[0m\u001b[0mparams\u001b[0m\u001b[0;34m,\u001b[0m \u001b[0;34m**\u001b[0m\u001b[0mkwargs\u001b[0m\u001b[0;34m)\u001b[0m\u001b[0;34m\u001b[0m\u001b[0;34m\u001b[0m\u001b[0m\n\u001b[0m\u001b[1;32m     77\u001b[0m \u001b[0;34m\u001b[0m\u001b[0m\n\u001b[1;32m     78\u001b[0m \u001b[0;34m\u001b[0m\u001b[0m\n",
      "\u001b[0;32m/usr/local/lib/python3.7/dist-packages/requests/api.py\u001b[0m in \u001b[0;36mrequest\u001b[0;34m(method, url, **kwargs)\u001b[0m\n\u001b[1;32m     59\u001b[0m     \u001b[0;31m# cases, and look like a memory leak in others.\u001b[0m\u001b[0;34m\u001b[0m\u001b[0;34m\u001b[0m\u001b[0;34m\u001b[0m\u001b[0m\n\u001b[1;32m     60\u001b[0m     \u001b[0;32mwith\u001b[0m \u001b[0msessions\u001b[0m\u001b[0;34m.\u001b[0m\u001b[0mSession\u001b[0m\u001b[0;34m(\u001b[0m\u001b[0;34m)\u001b[0m \u001b[0;32mas\u001b[0m \u001b[0msession\u001b[0m\u001b[0;34m:\u001b[0m\u001b[0;34m\u001b[0m\u001b[0;34m\u001b[0m\u001b[0m\n\u001b[0;32m---> 61\u001b[0;31m         \u001b[0;32mreturn\u001b[0m \u001b[0msession\u001b[0m\u001b[0;34m.\u001b[0m\u001b[0mrequest\u001b[0m\u001b[0;34m(\u001b[0m\u001b[0mmethod\u001b[0m\u001b[0;34m=\u001b[0m\u001b[0mmethod\u001b[0m\u001b[0;34m,\u001b[0m \u001b[0murl\u001b[0m\u001b[0;34m=\u001b[0m\u001b[0murl\u001b[0m\u001b[0;34m,\u001b[0m \u001b[0;34m**\u001b[0m\u001b[0mkwargs\u001b[0m\u001b[0;34m)\u001b[0m\u001b[0;34m\u001b[0m\u001b[0;34m\u001b[0m\u001b[0m\n\u001b[0m\u001b[1;32m     62\u001b[0m \u001b[0;34m\u001b[0m\u001b[0m\n\u001b[1;32m     63\u001b[0m \u001b[0;34m\u001b[0m\u001b[0m\n",
      "\u001b[0;32m/usr/local/lib/python3.7/dist-packages/requests/sessions.py\u001b[0m in \u001b[0;36mrequest\u001b[0;34m(self, method, url, params, data, headers, cookies, files, auth, timeout, allow_redirects, proxies, hooks, stream, verify, cert, json)\u001b[0m\n\u001b[1;32m    528\u001b[0m         }\n\u001b[1;32m    529\u001b[0m         \u001b[0msend_kwargs\u001b[0m\u001b[0;34m.\u001b[0m\u001b[0mupdate\u001b[0m\u001b[0;34m(\u001b[0m\u001b[0msettings\u001b[0m\u001b[0;34m)\u001b[0m\u001b[0;34m\u001b[0m\u001b[0;34m\u001b[0m\u001b[0m\n\u001b[0;32m--> 530\u001b[0;31m         \u001b[0mresp\u001b[0m \u001b[0;34m=\u001b[0m \u001b[0mself\u001b[0m\u001b[0;34m.\u001b[0m\u001b[0msend\u001b[0m\u001b[0;34m(\u001b[0m\u001b[0mprep\u001b[0m\u001b[0;34m,\u001b[0m \u001b[0;34m**\u001b[0m\u001b[0msend_kwargs\u001b[0m\u001b[0;34m)\u001b[0m\u001b[0;34m\u001b[0m\u001b[0;34m\u001b[0m\u001b[0m\n\u001b[0m\u001b[1;32m    531\u001b[0m \u001b[0;34m\u001b[0m\u001b[0m\n\u001b[1;32m    532\u001b[0m         \u001b[0;32mreturn\u001b[0m \u001b[0mresp\u001b[0m\u001b[0;34m\u001b[0m\u001b[0;34m\u001b[0m\u001b[0m\n",
      "\u001b[0;32m/usr/local/lib/python3.7/dist-packages/requests/sessions.py\u001b[0m in \u001b[0;36msend\u001b[0;34m(self, request, **kwargs)\u001b[0m\n\u001b[1;32m    641\u001b[0m \u001b[0;34m\u001b[0m\u001b[0m\n\u001b[1;32m    642\u001b[0m         \u001b[0;31m# Send the request\u001b[0m\u001b[0;34m\u001b[0m\u001b[0;34m\u001b[0m\u001b[0;34m\u001b[0m\u001b[0m\n\u001b[0;32m--> 643\u001b[0;31m         \u001b[0mr\u001b[0m \u001b[0;34m=\u001b[0m \u001b[0madapter\u001b[0m\u001b[0;34m.\u001b[0m\u001b[0msend\u001b[0m\u001b[0;34m(\u001b[0m\u001b[0mrequest\u001b[0m\u001b[0;34m,\u001b[0m \u001b[0;34m**\u001b[0m\u001b[0mkwargs\u001b[0m\u001b[0;34m)\u001b[0m\u001b[0;34m\u001b[0m\u001b[0;34m\u001b[0m\u001b[0m\n\u001b[0m\u001b[1;32m    644\u001b[0m \u001b[0;34m\u001b[0m\u001b[0m\n\u001b[1;32m    645\u001b[0m         \u001b[0;31m# Total elapsed time of the request (approximately)\u001b[0m\u001b[0;34m\u001b[0m\u001b[0;34m\u001b[0m\u001b[0;34m\u001b[0m\u001b[0m\n",
      "\u001b[0;32m/usr/local/lib/python3.7/dist-packages/requests/adapters.py\u001b[0m in \u001b[0;36msend\u001b[0;34m(self, request, stream, timeout, verify, cert, proxies)\u001b[0m\n\u001b[1;32m    447\u001b[0m                     \u001b[0mdecode_content\u001b[0m\u001b[0;34m=\u001b[0m\u001b[0;32mFalse\u001b[0m\u001b[0;34m,\u001b[0m\u001b[0;34m\u001b[0m\u001b[0;34m\u001b[0m\u001b[0m\n\u001b[1;32m    448\u001b[0m                     \u001b[0mretries\u001b[0m\u001b[0;34m=\u001b[0m\u001b[0mself\u001b[0m\u001b[0;34m.\u001b[0m\u001b[0mmax_retries\u001b[0m\u001b[0;34m,\u001b[0m\u001b[0;34m\u001b[0m\u001b[0;34m\u001b[0m\u001b[0m\n\u001b[0;32m--> 449\u001b[0;31m                     \u001b[0mtimeout\u001b[0m\u001b[0;34m=\u001b[0m\u001b[0mtimeout\u001b[0m\u001b[0;34m\u001b[0m\u001b[0;34m\u001b[0m\u001b[0m\n\u001b[0m\u001b[1;32m    450\u001b[0m                 )\n\u001b[1;32m    451\u001b[0m \u001b[0;34m\u001b[0m\u001b[0m\n",
      "\u001b[0;32m/usr/local/lib/python3.7/dist-packages/urllib3/connectionpool.py\u001b[0m in \u001b[0;36murlopen\u001b[0;34m(self, method, url, body, headers, retries, redirect, assert_same_host, timeout, pool_timeout, release_conn, chunked, body_pos, **response_kw)\u001b[0m\n\u001b[1;32m    598\u001b[0m                                                   \u001b[0mtimeout\u001b[0m\u001b[0;34m=\u001b[0m\u001b[0mtimeout_obj\u001b[0m\u001b[0;34m,\u001b[0m\u001b[0;34m\u001b[0m\u001b[0;34m\u001b[0m\u001b[0m\n\u001b[1;32m    599\u001b[0m                                                   \u001b[0mbody\u001b[0m\u001b[0;34m=\u001b[0m\u001b[0mbody\u001b[0m\u001b[0;34m,\u001b[0m \u001b[0mheaders\u001b[0m\u001b[0;34m=\u001b[0m\u001b[0mheaders\u001b[0m\u001b[0;34m,\u001b[0m\u001b[0;34m\u001b[0m\u001b[0;34m\u001b[0m\u001b[0m\n\u001b[0;32m--> 600\u001b[0;31m                                                   chunked=chunked)\n\u001b[0m\u001b[1;32m    601\u001b[0m \u001b[0;34m\u001b[0m\u001b[0m\n\u001b[1;32m    602\u001b[0m             \u001b[0;31m# If we're going to release the connection in ``finally:``, then\u001b[0m\u001b[0;34m\u001b[0m\u001b[0;34m\u001b[0m\u001b[0;34m\u001b[0m\u001b[0m\n",
      "\u001b[0;32m/usr/local/lib/python3.7/dist-packages/urllib3/connectionpool.py\u001b[0m in \u001b[0;36m_make_request\u001b[0;34m(self, conn, method, url, timeout, chunked, **httplib_request_kw)\u001b[0m\n\u001b[1;32m    378\u001b[0m             \u001b[0;32mexcept\u001b[0m \u001b[0mTypeError\u001b[0m\u001b[0;34m:\u001b[0m  \u001b[0;31m# Python 3\u001b[0m\u001b[0;34m\u001b[0m\u001b[0;34m\u001b[0m\u001b[0m\n\u001b[1;32m    379\u001b[0m                 \u001b[0;32mtry\u001b[0m\u001b[0;34m:\u001b[0m\u001b[0;34m\u001b[0m\u001b[0;34m\u001b[0m\u001b[0m\n\u001b[0;32m--> 380\u001b[0;31m                     \u001b[0mhttplib_response\u001b[0m \u001b[0;34m=\u001b[0m \u001b[0mconn\u001b[0m\u001b[0;34m.\u001b[0m\u001b[0mgetresponse\u001b[0m\u001b[0;34m(\u001b[0m\u001b[0;34m)\u001b[0m\u001b[0;34m\u001b[0m\u001b[0;34m\u001b[0m\u001b[0m\n\u001b[0m\u001b[1;32m    381\u001b[0m                 \u001b[0;32mexcept\u001b[0m \u001b[0mException\u001b[0m \u001b[0;32mas\u001b[0m \u001b[0me\u001b[0m\u001b[0;34m:\u001b[0m\u001b[0;34m\u001b[0m\u001b[0;34m\u001b[0m\u001b[0m\n\u001b[1;32m    382\u001b[0m                     \u001b[0;31m# Remove the TypeError from the exception chain in Python 3;\u001b[0m\u001b[0;34m\u001b[0m\u001b[0;34m\u001b[0m\u001b[0;34m\u001b[0m\u001b[0m\n",
      "\u001b[0;32m/usr/lib/python3.7/http/client.py\u001b[0m in \u001b[0;36mgetresponse\u001b[0;34m(self)\u001b[0m\n\u001b[1;32m   1367\u001b[0m         \u001b[0;32mtry\u001b[0m\u001b[0;34m:\u001b[0m\u001b[0;34m\u001b[0m\u001b[0;34m\u001b[0m\u001b[0m\n\u001b[1;32m   1368\u001b[0m             \u001b[0;32mtry\u001b[0m\u001b[0;34m:\u001b[0m\u001b[0;34m\u001b[0m\u001b[0;34m\u001b[0m\u001b[0m\n\u001b[0;32m-> 1369\u001b[0;31m                 \u001b[0mresponse\u001b[0m\u001b[0;34m.\u001b[0m\u001b[0mbegin\u001b[0m\u001b[0;34m(\u001b[0m\u001b[0;34m)\u001b[0m\u001b[0;34m\u001b[0m\u001b[0;34m\u001b[0m\u001b[0m\n\u001b[0m\u001b[1;32m   1370\u001b[0m             \u001b[0;32mexcept\u001b[0m \u001b[0mConnectionError\u001b[0m\u001b[0;34m:\u001b[0m\u001b[0;34m\u001b[0m\u001b[0;34m\u001b[0m\u001b[0m\n\u001b[1;32m   1371\u001b[0m                 \u001b[0mself\u001b[0m\u001b[0;34m.\u001b[0m\u001b[0mclose\u001b[0m\u001b[0;34m(\u001b[0m\u001b[0;34m)\u001b[0m\u001b[0;34m\u001b[0m\u001b[0;34m\u001b[0m\u001b[0m\n",
      "\u001b[0;32m/usr/lib/python3.7/http/client.py\u001b[0m in \u001b[0;36mbegin\u001b[0;34m(self)\u001b[0m\n\u001b[1;32m    308\u001b[0m         \u001b[0;31m# read until we get a non-100 response\u001b[0m\u001b[0;34m\u001b[0m\u001b[0;34m\u001b[0m\u001b[0;34m\u001b[0m\u001b[0m\n\u001b[1;32m    309\u001b[0m         \u001b[0;32mwhile\u001b[0m \u001b[0;32mTrue\u001b[0m\u001b[0;34m:\u001b[0m\u001b[0;34m\u001b[0m\u001b[0;34m\u001b[0m\u001b[0m\n\u001b[0;32m--> 310\u001b[0;31m             \u001b[0mversion\u001b[0m\u001b[0;34m,\u001b[0m \u001b[0mstatus\u001b[0m\u001b[0;34m,\u001b[0m \u001b[0mreason\u001b[0m \u001b[0;34m=\u001b[0m \u001b[0mself\u001b[0m\u001b[0;34m.\u001b[0m\u001b[0m_read_status\u001b[0m\u001b[0;34m(\u001b[0m\u001b[0;34m)\u001b[0m\u001b[0;34m\u001b[0m\u001b[0;34m\u001b[0m\u001b[0m\n\u001b[0m\u001b[1;32m    311\u001b[0m             \u001b[0;32mif\u001b[0m \u001b[0mstatus\u001b[0m \u001b[0;34m!=\u001b[0m \u001b[0mCONTINUE\u001b[0m\u001b[0;34m:\u001b[0m\u001b[0;34m\u001b[0m\u001b[0;34m\u001b[0m\u001b[0m\n\u001b[1;32m    312\u001b[0m                 \u001b[0;32mbreak\u001b[0m\u001b[0;34m\u001b[0m\u001b[0;34m\u001b[0m\u001b[0m\n",
      "\u001b[0;32m/usr/lib/python3.7/http/client.py\u001b[0m in \u001b[0;36m_read_status\u001b[0;34m(self)\u001b[0m\n\u001b[1;32m    269\u001b[0m \u001b[0;34m\u001b[0m\u001b[0m\n\u001b[1;32m    270\u001b[0m     \u001b[0;32mdef\u001b[0m \u001b[0m_read_status\u001b[0m\u001b[0;34m(\u001b[0m\u001b[0mself\u001b[0m\u001b[0;34m)\u001b[0m\u001b[0;34m:\u001b[0m\u001b[0;34m\u001b[0m\u001b[0;34m\u001b[0m\u001b[0m\n\u001b[0;32m--> 271\u001b[0;31m         \u001b[0mline\u001b[0m \u001b[0;34m=\u001b[0m \u001b[0mstr\u001b[0m\u001b[0;34m(\u001b[0m\u001b[0mself\u001b[0m\u001b[0;34m.\u001b[0m\u001b[0mfp\u001b[0m\u001b[0;34m.\u001b[0m\u001b[0mreadline\u001b[0m\u001b[0;34m(\u001b[0m\u001b[0m_MAXLINE\u001b[0m \u001b[0;34m+\u001b[0m \u001b[0;36m1\u001b[0m\u001b[0;34m)\u001b[0m\u001b[0;34m,\u001b[0m \u001b[0;34m\"iso-8859-1\"\u001b[0m\u001b[0;34m)\u001b[0m\u001b[0;34m\u001b[0m\u001b[0;34m\u001b[0m\u001b[0m\n\u001b[0m\u001b[1;32m    272\u001b[0m         \u001b[0;32mif\u001b[0m \u001b[0mlen\u001b[0m\u001b[0;34m(\u001b[0m\u001b[0mline\u001b[0m\u001b[0;34m)\u001b[0m \u001b[0;34m>\u001b[0m \u001b[0m_MAXLINE\u001b[0m\u001b[0;34m:\u001b[0m\u001b[0;34m\u001b[0m\u001b[0;34m\u001b[0m\u001b[0m\n\u001b[1;32m    273\u001b[0m             \u001b[0;32mraise\u001b[0m \u001b[0mLineTooLong\u001b[0m\u001b[0;34m(\u001b[0m\u001b[0;34m\"status line\"\u001b[0m\u001b[0;34m)\u001b[0m\u001b[0;34m\u001b[0m\u001b[0;34m\u001b[0m\u001b[0m\n",
      "\u001b[0;32m/usr/lib/python3.7/socket.py\u001b[0m in \u001b[0;36mreadinto\u001b[0;34m(self, b)\u001b[0m\n\u001b[1;32m    587\u001b[0m         \u001b[0;32mwhile\u001b[0m \u001b[0;32mTrue\u001b[0m\u001b[0;34m:\u001b[0m\u001b[0;34m\u001b[0m\u001b[0;34m\u001b[0m\u001b[0m\n\u001b[1;32m    588\u001b[0m             \u001b[0;32mtry\u001b[0m\u001b[0;34m:\u001b[0m\u001b[0;34m\u001b[0m\u001b[0;34m\u001b[0m\u001b[0m\n\u001b[0;32m--> 589\u001b[0;31m                 \u001b[0;32mreturn\u001b[0m \u001b[0mself\u001b[0m\u001b[0;34m.\u001b[0m\u001b[0m_sock\u001b[0m\u001b[0;34m.\u001b[0m\u001b[0mrecv_into\u001b[0m\u001b[0;34m(\u001b[0m\u001b[0mb\u001b[0m\u001b[0;34m)\u001b[0m\u001b[0;34m\u001b[0m\u001b[0;34m\u001b[0m\u001b[0m\n\u001b[0m\u001b[1;32m    590\u001b[0m             \u001b[0;32mexcept\u001b[0m \u001b[0mtimeout\u001b[0m\u001b[0;34m:\u001b[0m\u001b[0;34m\u001b[0m\u001b[0;34m\u001b[0m\u001b[0m\n\u001b[1;32m    591\u001b[0m                 \u001b[0mself\u001b[0m\u001b[0;34m.\u001b[0m\u001b[0m_timeout_occurred\u001b[0m \u001b[0;34m=\u001b[0m \u001b[0;32mTrue\u001b[0m\u001b[0;34m\u001b[0m\u001b[0;34m\u001b[0m\u001b[0m\n",
      "\u001b[0;32m/usr/lib/python3.7/ssl.py\u001b[0m in \u001b[0;36mrecv_into\u001b[0;34m(self, buffer, nbytes, flags)\u001b[0m\n\u001b[1;32m   1069\u001b[0m                   \u001b[0;34m\"non-zero flags not allowed in calls to recv_into() on %s\"\u001b[0m \u001b[0;34m%\u001b[0m\u001b[0;34m\u001b[0m\u001b[0;34m\u001b[0m\u001b[0m\n\u001b[1;32m   1070\u001b[0m                   self.__class__)\n\u001b[0;32m-> 1071\u001b[0;31m             \u001b[0;32mreturn\u001b[0m \u001b[0mself\u001b[0m\u001b[0;34m.\u001b[0m\u001b[0mread\u001b[0m\u001b[0;34m(\u001b[0m\u001b[0mnbytes\u001b[0m\u001b[0;34m,\u001b[0m \u001b[0mbuffer\u001b[0m\u001b[0;34m)\u001b[0m\u001b[0;34m\u001b[0m\u001b[0;34m\u001b[0m\u001b[0m\n\u001b[0m\u001b[1;32m   1072\u001b[0m         \u001b[0;32melse\u001b[0m\u001b[0;34m:\u001b[0m\u001b[0;34m\u001b[0m\u001b[0;34m\u001b[0m\u001b[0m\n\u001b[1;32m   1073\u001b[0m             \u001b[0;32mreturn\u001b[0m \u001b[0msuper\u001b[0m\u001b[0;34m(\u001b[0m\u001b[0;34m)\u001b[0m\u001b[0;34m.\u001b[0m\u001b[0mrecv_into\u001b[0m\u001b[0;34m(\u001b[0m\u001b[0mbuffer\u001b[0m\u001b[0;34m,\u001b[0m \u001b[0mnbytes\u001b[0m\u001b[0;34m,\u001b[0m \u001b[0mflags\u001b[0m\u001b[0;34m)\u001b[0m\u001b[0;34m\u001b[0m\u001b[0;34m\u001b[0m\u001b[0m\n",
      "\u001b[0;32m/usr/lib/python3.7/ssl.py\u001b[0m in \u001b[0;36mread\u001b[0;34m(self, len, buffer)\u001b[0m\n\u001b[1;32m    927\u001b[0m         \u001b[0;32mtry\u001b[0m\u001b[0;34m:\u001b[0m\u001b[0;34m\u001b[0m\u001b[0;34m\u001b[0m\u001b[0m\n\u001b[1;32m    928\u001b[0m             \u001b[0;32mif\u001b[0m \u001b[0mbuffer\u001b[0m \u001b[0;32mis\u001b[0m \u001b[0;32mnot\u001b[0m \u001b[0;32mNone\u001b[0m\u001b[0;34m:\u001b[0m\u001b[0;34m\u001b[0m\u001b[0;34m\u001b[0m\u001b[0m\n\u001b[0;32m--> 929\u001b[0;31m                 \u001b[0;32mreturn\u001b[0m \u001b[0mself\u001b[0m\u001b[0;34m.\u001b[0m\u001b[0m_sslobj\u001b[0m\u001b[0;34m.\u001b[0m\u001b[0mread\u001b[0m\u001b[0;34m(\u001b[0m\u001b[0mlen\u001b[0m\u001b[0;34m,\u001b[0m \u001b[0mbuffer\u001b[0m\u001b[0;34m)\u001b[0m\u001b[0;34m\u001b[0m\u001b[0;34m\u001b[0m\u001b[0m\n\u001b[0m\u001b[1;32m    930\u001b[0m             \u001b[0;32melse\u001b[0m\u001b[0;34m:\u001b[0m\u001b[0;34m\u001b[0m\u001b[0;34m\u001b[0m\u001b[0m\n\u001b[1;32m    931\u001b[0m                 \u001b[0;32mreturn\u001b[0m \u001b[0mself\u001b[0m\u001b[0;34m.\u001b[0m\u001b[0m_sslobj\u001b[0m\u001b[0;34m.\u001b[0m\u001b[0mread\u001b[0m\u001b[0;34m(\u001b[0m\u001b[0mlen\u001b[0m\u001b[0;34m)\u001b[0m\u001b[0;34m\u001b[0m\u001b[0;34m\u001b[0m\u001b[0m\n",
      "\u001b[0;31mKeyboardInterrupt\u001b[0m: "
     ]
    }
   ],
   "source": [
    "# initialize song x genre matrix\n",
    "song_genre_matrix = np.zeros((len(song_list),len(genre_list)))\n",
    "\n",
    "# get genre of each song in song_and_artist_to_lyrics\n",
    "for i,song in enumerate(song_list):\n",
    "  api_song = song[0].replace(\" \", \"%20\")\n",
    "  api_artist = song[1].replace(\" \", \"%20\")\n",
    "  response = requests.get(\"https://api.musixmatch.com/ws/1.1/matcher.track.get?q_track=\"+api_song+\"&q_artist=\"+api_artist+\"&apikey=\"+authorization_code)\n",
    "  body = response.json()['message']['body']\n",
    "  if body:\n",
    "    song_genres = body['track']['primary_genres']['music_genre_list']\n",
    "    for genre in song_genres:\n",
    "      j = genre_idx[genre['music_genre']['music_genre_id']] \n",
    "      song_genre_matrix[i][j] = 1"
   ]
  },
  {
   "cell_type": "code",
   "execution_count": null,
   "metadata": {
    "id": "NAs8hCgEoPjP"
   },
   "outputs": [],
   "source": [
    "np.save(open('song_genre_matrix.npy', 'wb'), song_genre_matrix)"
   ]
  },
  {
   "cell_type": "code",
   "execution_count": null,
   "metadata": {
    "id": "u7QVvUgtoVFZ"
   },
   "outputs": [],
   "source": [
    "with open('song_genre_matrix.npy', 'rb') as f:\n",
    "    sg_matrix = np.load(f)"
   ]
  },
  {
   "cell_type": "code",
   "execution_count": null,
   "metadata": {
    "colab": {
     "base_uri": "https://localhost:8080/",
     "height": 282
    },
    "id": "PqYC6gE3YRp7",
    "outputId": "35967482-c034-439a-844a-ade9c9a19f49"
   },
   "outputs": [
    {
     "data": {
      "text/plain": [
       "<BarContainer object of 362 artists>"
      ]
     },
     "execution_count": 192,
     "metadata": {
      "tags": []
     },
     "output_type": "execute_result"
    },
    {
     "data": {
      "image/png": "[encoded data removed]",
      "text/plain": [
       "<Figure size 432x288 with 1 Axes>"
      ]
     },
     "metadata": {
      "needs_background": "light",
      "tags": []
     },
     "output_type": "display_data"
    }
   ],
   "source": [
    "plt.bar(range(sg_matrix.shape[1]),np.sum(sg_matrix.T,axis=1))"
   ]
  },
  {
   "cell_type": "code",
   "execution_count": null,
   "metadata": {
    "colab": {
     "base_uri": "https://localhost:8080/",
     "height": 279
    },
    "id": "auoVIfuGhX3P",
    "outputId": "cbf3b2be-d8f9-4a34-d3c7-5164b312d7b8"
   },
   "outputs": [
    {
     "data": {
      "image/png": "[encoded data removed]",
      "text/plain": [
       "<Figure size 432x288 with 1 Axes>"
      ]
     },
     "metadata": {
      "needs_background": "light",
      "tags": []
     },
     "output_type": "display_data"
    }
   ],
   "source": [
    "u, s, v_trans = svds(sg_matrix.T, k=20)\n",
    "\n",
    "%matplotlib inline\n",
    "plt.plot(s[::-1])\n",
    "plt.xlabel(\"Singular value number\")\n",
    "plt.ylabel(\"Singular value\")\n",
    "plt.show()"
   ]
  },
  {
   "cell_type": "code",
   "execution_count": null,
   "metadata": {
    "id": "LntfxIoLpqxl"
   },
   "outputs": [],
   "source": [
    "#normalize song-genre matrix\n",
    "genres_compressed = normalize(u, axis = 1)"
   ]
  },
  {
   "cell_type": "code",
   "execution_count": null,
   "metadata": {
    "id": "F__q_34ECCKB"
   },
   "outputs": [],
   "source": [
    "def closest_genre(genre_in, k = 10):\n",
    "    if genre_in not in genre_to_idx: return \"Not in vocab.\"\n",
    "    sims = genres_compressed.dot(genres_compressed[genre_to_idx[genre_in],:])\n",
    "    asort = np.argsort(-sims)[:k+1]\n",
    "    return [(idx_to_genre[i],sims[i]/sims[asort[0]]) for i in asort[1:]]"
   ]
  },
  {
   "cell_type": "code",
   "execution_count": null,
   "metadata": {
    "colab": {
     "base_uri": "https://localhost:8080/"
    },
    "id": "pCVv8XPPGB7F",
    "outputId": "506e549f-2d81-4ecd-93db-99fd7aec3b92"
   },
   "outputs": [
    {
     "data": {
      "text/plain": [
       "[('American Trad Rock', 0.8861705738426542),\n",
       " ('Mandopop', 0.8861705738426275),\n",
       " ('Axé', 0.8077066865835884),\n",
       " ('French Pop', 0.8058304974873187),\n",
       " ('Folk-Rock', 0.4728087489509908),\n",
       " ('Teen Pop', 0.4441986400560672),\n",
       " ('Blues', 0.43647782058181556),\n",
       " ('New Age', 0.4263790694633718),\n",
       " ('Brazilian', 0.3085601510109585),\n",
       " ('World', 0.26308722422706143),\n",
       " ('Contemporary Country', 0.25589986057612113),\n",
       " ('Southern Rock', 0.2463380124684423),\n",
       " ('Indian Pop', 0.2339973595766733),\n",
       " ('Cantata', 0.23296394466306794),\n",
       " ('Dubstep', 0.2325673103926607),\n",
       " ('Classical Crossover', 0.2325672058685221),\n",
       " ('Hardcore', 0.2322699372826818),\n",
       " ('Frevo', 0.23218745368383725),\n",
       " ('Classic Blues', 0.23214110640541005),\n",
       " ('Arabic Pop', 0.23201134557844605)]"
      ]
     },
     "execution_count": 104,
     "metadata": {
      "tags": []
     },
     "output_type": "execute_result"
    }
   ],
   "source": [
    "closest_genre('Pop', k = 20)"
   ]
  },
  {
   "cell_type": "code",
   "execution_count": null,
   "metadata": {
    "id": "G6cJOXI5Wfwk"
   },
   "outputs": [],
   "source": [
    "np.save(open('genres_compressed.npy', 'wb'), genres_compressed)"
   ]
  },
  {
   "cell_type": "code",
   "execution_count": null,
   "metadata": {
    "id": "RWAWKSw8coBk"
   },
   "outputs": [],
   "source": [
    "test = json.dumps(genre_to_idx)\n",
    "f = open('genre_to_idx.json','w')\n",
    "f.write(test)\n",
    "f.close()"
   ]
  },
  {
   "cell_type": "code",
   "execution_count": null,
   "metadata": {
    "colab": {
     "base_uri": "https://localhost:8080/"
    },
    "id": "YC_JqIkFdl5I",
    "outputId": "53895ff4-905e-4953-ccee-816b142a6633"
   },
   "outputs": [
    {
     "data": {
      "text/plain": [
       "array([-2.82612165e-05,  1.06018339e-01, -6.24734836e-01, -6.29170012e-01,\n",
       "        6.21838178e-01,  6.09980270e-01,  6.18809214e-01,  6.19803482e-01,\n",
       "       -6.22911591e-01, -6.18672759e-01,  6.29569912e-01, -6.25311084e-01,\n",
       "       -6.28683249e-01, -6.24683227e-01,  6.17927999e-01, -6.23707773e-01,\n",
       "        6.20347842e-01, -6.12462771e-01,  6.25243943e-01, -6.20386853e-01,\n",
       "        6.33179141e-01,  6.16674584e-01, -6.17508466e-01, -6.17811375e-01,\n",
       "        6.12890920e-01, -6.22390573e-01,  6.23749786e-01,  6.22139561e-01,\n",
       "       -5.26351133e-02, -6.19415834e-01,  6.14195702e-01, -6.20347718e-01,\n",
       "       -6.22351004e-01, -6.14142355e-01, -6.24058564e-01, -6.08311677e-01,\n",
       "       -6.19816102e-01,  6.22276026e-01, -6.13814657e-01,  6.32363295e-01,\n",
       "       -6.19141946e-01, -6.24503083e-01, -6.21053661e-01, -3.45040298e-02,\n",
       "       -2.42571994e-02, -1.31730440e-02, -6.21406002e-01,  2.55899861e-01,\n",
       "       -1.63145990e-02, -6.22029968e-01,  1.85170485e-01,  6.18143169e-01,\n",
       "        6.19377689e-01,  1.17959703e-01,  6.16361548e-01,  6.24486768e-01,\n",
       "        3.69298946e-03,  9.74659936e-04, -4.04993107e-01, -6.20474507e-01,\n",
       "        6.24159611e-01,  6.29773620e-01,  6.19886983e-01,  6.21625690e-01,\n",
       "        6.22374766e-01,  6.25701621e-01,  6.21648182e-01, -6.21150740e-01,\n",
       "       -6.28798344e-01,  6.17505920e-01,  6.17873419e-01, -6.21182556e-01,\n",
       "        6.27626283e-01,  6.29000392e-01,  6.25310745e-01,  6.22601785e-01,\n",
       "        6.19169970e-01, -4.02593660e-02, -1.24722333e-02, -3.45040298e-02,\n",
       "        4.72808749e-01,  6.17610626e-01,  9.49696779e-02,  6.25857730e-01,\n",
       "        6.24689008e-01,  6.22489620e-01,  6.25089798e-01,  6.18072149e-01,\n",
       "        6.20919536e-01, -6.24106348e-01,  6.21640879e-01, -6.31922158e-01,\n",
       "       -6.23162509e-01,  6.25136408e-01, -6.21583849e-01, -7.68148157e-03,\n",
       "        6.22554291e-01, -6.18976433e-01,  6.23501558e-01,  6.30402239e-01,\n",
       "       -6.24619465e-01,  2.47044964e-02, -6.23250634e-01, -6.59309930e-04,\n",
       "       -3.12839714e-03,  9.31914603e-02, -7.04969478e-03,  4.10860479e-02,\n",
       "       -6.22000719e-01,  6.12965707e-01,  6.19936508e-01,  6.14718083e-01,\n",
       "       -6.16783360e-01, -6.27820359e-01,  6.30243956e-01, -6.25941395e-01,\n",
       "        6.21340847e-01,  6.23672077e-01, -1.48624268e-01,  1.03502701e-01,\n",
       "        4.44198640e-01, -6.23580758e-01,  6.28771394e-01, -6.16606772e-01,\n",
       "       -6.32777171e-01, -6.26797027e-01,  8.86170574e-01,  6.24354870e-01,\n",
       "       -6.16996298e-01, -6.27609552e-01, -6.19412142e-01,  6.23509817e-01,\n",
       "        6.24791102e-01, -6.23327345e-01,  1.45913241e-03, -1.51458320e-02,\n",
       "        6.21328263e-01, -3.89471347e-02, -6.19980319e-01, -6.17994471e-01,\n",
       "        6.27136795e-01, -4.03898730e-02,  6.18917234e-01, -6.21561231e-01,\n",
       "       -6.22839886e-01, -6.23925540e-01, -3.97364136e-03,  6.19164708e-01,\n",
       "       -6.30909709e-01, -6.23792663e-01,  6.13606451e-01,  6.15807749e-01,\n",
       "        6.19981157e-01,  6.21136066e-01, -4.07652517e-02,  6.19600904e-01,\n",
       "       -6.21236406e-01, -8.59197752e-04, -8.66958894e-03, -5.58650665e-03,\n",
       "       -1.75429041e-04,  1.93674824e-03, -1.89609519e-05, -8.95588534e-03,\n",
       "       -2.67615619e-02, -6.52549340e-06,  2.80476711e-03, -1.42324497e-04,\n",
       "        6.24703468e-01, -6.20162989e-01,  6.15489978e-01, -6.25109618e-01,\n",
       "        6.17003027e-01,  6.23677191e-01, -6.30586610e-01, -6.30703303e-01,\n",
       "       -6.12051327e-01,  6.29508983e-01, -6.19438857e-01,  6.25862574e-01,\n",
       "        6.29366143e-01,  1.63384222e-02, -6.19016866e-01,  6.28362141e-01,\n",
       "        6.21388776e-01,  6.30239172e-01, -6.24579866e-01, -6.23450823e-01,\n",
       "        6.18579996e-01,  6.15470006e-01, -6.25122149e-01, -3.78460317e-01,\n",
       "        6.21944954e-01,  6.20153755e-01,  6.19726105e-01,  6.19175800e-01,\n",
       "        6.23737952e-01,  6.24267826e-01, -6.18537067e-01, -6.19269551e-01,\n",
       "       -3.70107282e-02,  6.18477452e-01, -4.22631950e-01, -6.21894968e-01,\n",
       "        6.22940609e-01,  6.21251255e-01, -6.25159982e-01, -6.27655035e-01,\n",
       "        6.19545140e-01, -6.13399288e-01, -6.30847389e-01,  6.34737342e-01,\n",
       "        6.27075455e-01, -6.22266141e-01, -1.12651066e-01, -1.46753145e-01,\n",
       "       -6.16901216e-01, -6.22943083e-01, -1.24332703e-01,  6.22646495e-01,\n",
       "        6.29163184e-01,  1.86413855e-01,  4.51035491e-02, -1.15104513e-01,\n",
       "       -1.55353214e-01,  8.86170574e-01, -1.37481692e-01, -1.71758235e-01,\n",
       "       -1.61511295e-01,  3.84560783e-01,  3.96430608e-01, -4.12957778e-04,\n",
       "       -1.66723218e-02,  1.21889740e-03,  6.15034295e-01, -3.97654574e-02,\n",
       "       -1.77656676e-01, -1.48738887e-01, -1.91736341e-02, -6.17181914e-01,\n",
       "       -3.14506272e-02,  2.46338012e-01,  4.25588577e-01,  6.20224908e-01,\n",
       "       -6.24641112e-01, -6.33638659e-01, -6.25858552e-01,  6.17566004e-01,\n",
       "       -6.18985016e-01,  6.19310761e-01, -6.19755209e-01, -6.22703401e-01,\n",
       "        1.04075779e-01,  6.23548515e-01,  6.25927736e-01,  6.31924866e-01,\n",
       "        6.23582544e-01,  6.34577465e-01, -6.18453969e-01,  6.24635437e-01,\n",
       "       -6.29447082e-01, -1.61504813e-02, -6.20428884e-01,  6.12402979e-01,\n",
       "       -1.51375545e-01, -6.23957357e-01,  6.28702075e-01, -6.22054365e-01,\n",
       "        4.36477821e-01,  6.36983167e-02, -1.14590744e-01, -6.14569154e-01,\n",
       "       -2.10112979e-04,  1.23779832e-05, -9.24185552e-02,  6.22187006e-01,\n",
       "        1.58273767e-02, -9.62267285e-06,  6.17455105e-01, -1.49962178e-03,\n",
       "        6.24634670e-01,  3.27786160e-05,  4.26379069e-01,  1.00000000e+00,\n",
       "        1.33901911e-04,  2.07673321e-03,  2.49282843e-02,  1.23897838e-05,\n",
       "        2.63087224e-01,  1.45177597e-04,  2.90922445e-04, -1.59990239e-02,\n",
       "        2.11613133e-01, -1.35718289e-01, -7.70035414e-03,  6.18741957e-01,\n",
       "       -6.34265210e-01,  6.13009708e-01,  6.22506090e-01,  6.25634071e-01,\n",
       "       -2.65605816e-02,  6.33777496e-01, -2.70116791e-01, -6.34258361e-01,\n",
       "        3.08560151e-01,  6.23803214e-01,  6.22003893e-01, -6.20137744e-01,\n",
       "       -3.16157723e-04,  6.21518586e-01,  8.05830497e-01, -1.57357522e-01,\n",
       "        6.27595856e-01,  6.19334878e-01,  6.21980124e-01,  6.21388394e-01,\n",
       "        8.07706687e-01,  6.23022608e-01, -6.31834815e-01,  6.26871875e-01,\n",
       "        6.20668366e-01,  7.60526023e-02,  6.32747635e-01, -1.61511295e-01,\n",
       "       -6.29261513e-01,  6.20912730e-01,  6.16909838e-01, -6.15571021e-01,\n",
       "        6.23747840e-01,  6.17291129e-01, -6.17813927e-01, -6.23174412e-01,\n",
       "       -6.22427293e-01,  6.22651377e-01, -6.25777228e-01,  6.24384099e-01,\n",
       "        6.16054032e-01,  6.25828398e-01, -6.30647094e-01, -6.21698432e-01,\n",
       "       -6.17257602e-01,  6.24502345e-01,  6.23340842e-01,  6.20838828e-01,\n",
       "        6.20037158e-01,  6.35578640e-01, -6.20753442e-01,  6.20590200e-01,\n",
       "       -6.18104703e-01,  6.13848232e-01, -6.29721778e-01, -6.21353335e-01,\n",
       "        6.14231039e-01, -6.24775663e-01, -6.22714428e-01,  6.19797930e-01,\n",
       "        5.30084106e-01,  3.95397370e-01, -6.23528485e-01, -6.17467399e-01,\n",
       "        6.18890499e-01,  6.25190242e-01])"
      ]
     },
     "execution_count": 211,
     "metadata": {
      "tags": []
     },
     "output_type": "execute_result"
    }
   ],
   "source": [
    "genres_compressed.dot(genres_compressed[genre_to_idx['Pop'],:])"
   ]
  }
 ],
 "metadata": {
  "colab": {
   "collapsed_sections": [],
   "name": "CS 4300 SVD.ipynb",
   "provenance": []
  },
  "kernelspec": {
   "display_name": "Python 3",
   "language": "python",
   "name": "python3"
  },
  "language_info": {
   "codemirror_mode": {
    "name": "ipython",
    "version": 3
   },
   "file_extension": ".py",
   "mimetype": "text/x-python",
   "name": "python",
   "nbconvert_exporter": "python",
   "pygments_lexer": "ipython3",
   "version": "3.7.6"
  }
 },
 "nbformat": 4,
 "nbformat_minor": 1
}
